{
 "cells": [
  {
   "cell_type": "markdown",
   "metadata": {},
   "source": [
    "Um número em notação científica apresenta o seguinte formato:\n",
    "\n",
    "N . 10n\n",
    "\n",
    "Sendo,\n",
    "\n",
    "N um número real igual ou maior que 1 e menor que 10;\n",
    "n um número inteiro.\n",
    "\n",
    "Exemplos\n",
    "\n",
    "- 6 590 000 000 000 000 = 6,59 . 10 15\n",
    "- 0, 000000000016 = 1,6 . 10 - 11"
   ]
  },
  {
   "cell_type": "code",
   "execution_count": 18,
   "metadata": {},
   "outputs": [
    {
     "name": "stdout",
     "output_type": "stream",
     "text": [
      "10000\n"
     ]
    }
   ],
   "source": [
    "def notacao_cientifica(x):\n",
    "    if not isinstance(x,int) and not isinstance(x,float):\n",
    "        print('Entrada só pode ser int ou float.')\n",
    "        return\n",
    "    xstring = f'{x}'\n",
    "    xlist = list(xstring)\n",
    "    dot_position = xstring.find('.') if xstring.find('.') != -1 else len(xstring)\n",
    "    xint = xstring[:dot_position]\n",
    "    print(xint)\n",
    "    \n",
    "\n",
    "notacao_cientifica(10000.00)"
   ]
  }
 ],
 "metadata": {
  "kernelspec": {
   "display_name": ".venv",
   "language": "python",
   "name": "python3"
  },
  "language_info": {
   "codemirror_mode": {
    "name": "ipython",
    "version": 3
   },
   "file_extension": ".py",
   "mimetype": "text/x-python",
   "name": "python",
   "nbconvert_exporter": "python",
   "pygments_lexer": "ipython3",
   "version": "3.10.12"
  }
 },
 "nbformat": 4,
 "nbformat_minor": 2
}
